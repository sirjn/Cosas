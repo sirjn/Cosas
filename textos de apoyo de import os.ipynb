{
 "cells": [
  {
   "cell_type": "code",
   "execution_count": null,
   "metadata": {},
   "outputs": [],
   "source": [
    "import pandas as pd\n",
    "\n",
    "# Lee el archivo CSV con tabulaciones como delimitador y elimina las comillas\n",
    "ruta = r'C:\\Users\\Javier\\Desktop\\LEER\\binance 2023.csv'\n",
    "data = pd.read_csv(ruta, sep=',', skipinitialspace=True, quotechar='\"', quoting=3, dtype=str)\n",
    "\n",
    "# Elimina las comillas dobles de las columnas necesarias\n",
    "columnas_con_comillas = ['UTC_Time', 'Operation', 'Coin', 'Change', 'Remark']\n",
    "for columna in columnas_con_comillas:\n",
    "    data[columna] = data[columna].str.strip('\"')\n",
    "\n",
    "# Nombre del archivo editado\n",
    "nombre_editado = ruta + '_EDITED.csv'  # Agregamos \".csv\" al nombre del archivo\n",
    "\n",
    "\n",
    "# Guarda el archivo editado en la misma carpeta\n",
    "data.to_csv(nombre_editado, index=False)\n",
    "\n",
    "\n",
    "data\n"
   ]
  },
  {
   "cell_type": "code",
   "execution_count": null,
   "metadata": {},
   "outputs": [],
   "source": [
    "import pandas as pd\n",
    "\n",
    "# Cargar el CSV original\n",
    "data = pd.read_csv(r'C:\\Users\\Javier\\Desktop\\LEER\\binance 2023.csv')\n",
    "\n",
    "# Nombre del archivo editado\n",
    "nombre_editado = ruta + '_EDITED.csv'  # Agregamos \".csv\" al nombre del archivo\n",
    "\n",
    "\n",
    "# Guarda el archivo editado en la misma carpeta\n",
    "data.to_csv(nombre_editado, index=False)\n",
    "\n",
    "data"
   ]
  },
  {
   "cell_type": "code",
   "execution_count": null,
   "metadata": {},
   "outputs": [],
   "source": [
    "import pandas as pd\n",
    "\n",
    "# Cargar el CSV original\n",
    "data = pd.read_csv(r'C:\\Users\\Javier\\Desktop\\LEER\\binance 2020_ED.csv')\n",
    "\n",
    "# Eliminar comillas de todas las columnas\n",
    "data = data.apply(lambda x: x.str.replace('\"', ''))\n",
    "\n",
    "# Agregar la columna 'User_ID' con el valor '40902871'\n",
    "data['User_ID'] = '40902871'\n",
    "\n",
    "# Reorganizar las columnas para que 'User_ID' esté al principio\n",
    "data = data[['User_ID'] + [col for col in data.columns if col != 'User_ID']]\n",
    "\n",
    "# Guardar el archivo final\n",
    "data.to_csv(r'C:\\Users\\Javier\\Desktop\\LEER\\binance 2020_EDD.csv', index=False)\n",
    "\n",
    "\n"
   ]
  }
 ],
 "metadata": {
  "kernelspec": {
   "display_name": "Python 3",
   "language": "python",
   "name": "python3"
  },
  "language_info": {
   "codemirror_mode": {
    "name": "ipython",
    "version": 3
   },
   "file_extension": ".py",
   "mimetype": "text/x-python",
   "name": "python",
   "nbconvert_exporter": "python",
   "pygments_lexer": "ipython3",
   "version": "3.11.3"
  }
 },
 "nbformat": 4,
 "nbformat_minor": 2
}
